{
 "cells": [
  {
   "cell_type": "markdown",
   "metadata": {},
   "source": [
    "## 2.3 General properties of minimization algorithm"
   ]
  },
  {
   "cell_type": "markdown",
   "metadata": {},
   "source": [
    "一般做法就是 求一阶导数=0 时的X 值 1； \n",
    "\n",
    "$\\Omega(f (x_0))= \\{ x \\in \\mathbb{R^n} : \\triangledown f (x) < f (x_0) \\}$  "
   ]
  },
  {
   "cell_type": "markdown",
   "metadata": {},
   "source": [
    "# General unconstrained minimization algorithm"
   ]
  },
  {
   "cell_type": "markdown",
   "metadata": {},
   "source": [
    "\n",
    "1. 随机取一个点 。 set k =0             \n",
    "2. 如果 $x_k \\ in \\mathbb{R^n}  STOP $            \n",
    "3. compute a direction of research $d_k$  （满足 某些条件）         \n",
    "4. compute a step $a_k \\in \\mathbb{R}$along$d_k$      （满足 某些条件）     \n",
    "5. let $k_{k+1}=x_k+a_k d_k $ set $k=k+1$      go back to 2.      "
   ]
  },
  {
   "cell_type": "markdown",
   "metadata": {},
   "source": [
    "为了保证上述成立， \n",
    "我们必须考虑以下几个问题。 \n",
    "1. 是否存在 accumulation points （最终收敛的 $x_k$) （理论上是否可行）\n",
    "2. gradient 和 $d_k$的夹角  (保证 f 是减小的 )\n",
    "3. 收敛的速度。 (  速度不能太小)"
   ]
  },
  {
   "cell_type": "markdown",
   "metadata": {},
   "source": [
    "<img src='./image/opti view.png'>"
   ]
  }
 ],
 "metadata": {
  "anaconda-cloud": {},
  "kernelspec": {
   "display_name": "Python [conda root]",
   "language": "python",
   "name": "conda-root-py"
  },
  "language_info": {
   "codemirror_mode": {
    "name": "ipython",
    "version": 2
   },
   "file_extension": ".py",
   "mimetype": "text/x-python",
   "name": "python",
   "nbconvert_exporter": "python",
   "pygments_lexer": "ipython2",
   "version": "2.7.12"
  }
 },
 "nbformat": 4,
 "nbformat_minor": 1
}
