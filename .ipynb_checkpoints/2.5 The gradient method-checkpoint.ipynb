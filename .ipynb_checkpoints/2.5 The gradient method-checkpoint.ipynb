{
 "cells": [
  {
   "cell_type": "markdown",
   "metadata": {},
   "source": [
    "# 2.5  The gradient method\n"
   ]
  },
  {
   "cell_type": "markdown",
   "metadata": {},
   "source": [
    "research direction 是 负一 * gradient "
   ]
  },
  {
   "cell_type": "markdown",
   "metadata": {},
   "source": [
    "<img src='./image/Gradient algorithm.png'>"
   ]
  },
  {
   "cell_type": "code",
   "execution_count": 5,
   "metadata": {
    "collapsed": false
   },
   "outputs": [
    {
     "name": "stdout",
     "output_type": "stream",
     "text": [
      "('The local minimum occurs at ', 2.2499646074278457)\n"
     ]
    }
   ],
   "source": [
    "x_old = 0 # The value does not matter as long as abs(x_new - x_old) > precision\n",
    "x_new = 6 # The algorithm starts at x=6\n",
    "a = 0.01 # step size\n",
    "precision = 0.00001\n",
    "def f(x):\n",
    "    return x**4-3*x**3+2\n",
    "\n",
    "def df(x):\n",
    "    y = 4 * x**3 - 9 * x**2\n",
    "    return y\n",
    "\n",
    "def grad_f(x):\n",
    "    epsilon=0.000001;\n",
    "    return (f(x+epsilon)-f(x-epsilon))/2/epsilon\n",
    "  \n",
    "while abs(x_new - x_old) > precision:\n",
    "    x_old = x_new\n",
    "    x_new += -a * df(x_old)\n",
    "\n",
    "print(\"The local minimum occurs at \", +x_new)"
   ]
  },
  {
   "cell_type": "markdown",
   "metadata": {},
   "source": [
    "# 2.6 Newton method"
   ]
  },
  {
   "cell_type": "markdown",
   "metadata": {
    "collapsed": true
   },
   "source": [
    "<img src='./image/newton method.png'>"
   ]
  },
  {
   "cell_type": "markdown",
   "metadata": {
    "collapsed": false
   },
   "source": [
    "注： Hessian 有可能是 Identity matrix， 这时候 newton method 就是 gradient method\n",
    "\n",
    "### 上式缺了 stepsize "
   ]
  },
  {
   "cell_type": "markdown",
   "metadata": {},
   "source": [
    "#  2.6.1 trust region \n",
    "A possible approach to modify Newton’s method to yield global convergence is to set the direction dk and the step αk in such a way to minimize the quadratic approximation of f on a sphere centered at xk and of radius ak. Such a sphere is called trust region. This name refers to the fact that, in a small region around xk we are conﬁdent (we trust) that the quadratic approximation of f is a good approximation. \n",
    "<img src='./image/trust region.png'>"
   ]
  },
  {
   "cell_type": "markdown",
   "metadata": {},
   "source": [
    "<img src='./image/gred new comp.png'>"
   ]
  },
  {
   "cell_type": "markdown",
   "metadata": {},
   "source": [
    "# 2.7 Conjugate directions methods\n"
   ]
  },
  {
   "cell_type": "markdown",
   "metadata": {
    "collapsed": false
   },
   "source": [
    " Polak-Ribiere algorithm (see Section 2.7.3) with Armijo line search"
   ]
  },
  {
   "cell_type": "markdown",
   "metadata": {},
   "source": [
    "<img src = './image/Polak-Ribiere algorithm.png'>"
   ]
  }
 ],
 "metadata": {
  "anaconda-cloud": {},
  "kernelspec": {
   "display_name": "Python [conda root]",
   "language": "python",
   "name": "conda-root-py"
  },
  "language_info": {
   "codemirror_mode": {
    "name": "ipython",
    "version": 2
   },
   "file_extension": ".py",
   "mimetype": "text/x-python",
   "name": "python",
   "nbconvert_exporter": "python",
   "pygments_lexer": "ipython2",
   "version": "2.7.12"
  }
 },
 "nbformat": 4,
 "nbformat_minor": 1
}
