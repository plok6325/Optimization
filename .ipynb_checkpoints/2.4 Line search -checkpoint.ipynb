{
 "cells": [
  {
   "cell_type": "markdown",
   "metadata": {},
   "source": [
    "# Line search 线搜索 (找一个能让f 降低的$a_k$ 和 $d_k$)"
   ]
  },
  {
   "cell_type": "markdown",
   "metadata": {},
   "source": [
    "The line search approach first finds a descent direction along which the objective function $\\displaystyle f$  will be reduced and then computes a step size that determines how far $ \\mathbf {x} $  should move along that direction. The descent direction can be computed by various methods, such as gradient descent, Newton's method and Quasi-Newton method. The step size can be determined either exactly or inexactly."
   ]
  },
  {
   "cell_type": "markdown",
   "metadata": {},
   "source": [
    "<img src='./image/line search.png'>"
   ]
  },
  {
   "cell_type": "markdown",
   "metadata": {},
   "source": [
    "## 定义一个函数:   AA  瞎几把乱写\n",
    "$$\\phi (\\alpha)=f(x_k+\\alpha d_k)-f(x_k) $$\n",
    "对上式求导 \n",
    " $$\\frac{\\partial\\phi }{\\partial \\alpha}= \\triangledown f (x_k+\\alpha d_k)'d_k$$\n",
    " \n",
    " when $\\alpha=0$\n",
    " \n",
    "  $$\\frac{\\partial\\phi(0) }{\\partial \\alpha}= \\triangledown f (x_k)'d_k$$\n",
    "上式恰好是  在$x_k$ 沿着$d_k$ 对 f 求导的表达式 \n",
    "适用于Line search 的条件之一为： $$\\triangledown f (x_k)'d_k < 0 $$   "
   ]
  },
  {
   "cell_type": "markdown",
   "metadata": {},
   "source": [
    "# 使用line search 对 a 和 dk 有要求。 这里介绍了几种确定step size 的 方法"
   ]
  },
  {
   "cell_type": "markdown",
   "metadata": {},
   "source": [
    "##  2.4.1 exact line search \n",
    "找一个 $a_k$ 使得 对于 所有 $ \\alpha \\geq 0$  ：  \n",
    "$$\\phi (\\alpha_k)=f(x_k+\\alpha_k d_k)-f(x_k) \\leq f(x_k+\\alpha d_k)-f(x_k) = \\phi (\\alpha) $$\n",
    "相当于画一个图，在图里找最小值。  寻找 $a_k$ 是非常expensive 的.\n",
    "\n",
    "<img src='./image/exact line search.png '>"
   ]
  },
  {
   "cell_type": "markdown",
   "metadata": {},
   "source": [
    "## THE Armijo CONDITIONS\n",
    "\n",
    "$$\\phi (\\alpha)= f(x_k+\\alpha d_k) -f (x_k) \\leq \\gamma \\alpha \\triangledown f (x_k)'  d_k $$"
   ]
  },
  {
   "cell_type": "markdown",
   "metadata": {},
   "source": [
    "## 2.4.2 Armijo method\n",
    "\n",
    "找一个满足条件的最大 $\\alpha $, 使得  $$\\phi (\\alpha)= f(x_k+\\alpha d_k) -f (x_k) \\leq \\gamma \\alpha \\triangledown f (x_k)'  d_k $$\n",
    "\n",
    "\n",
    "上式为广义 Armijo condition 十分重要          \n",
    "\n",
    "其中寻找 $\\alpha $  的规则为 ： $\\alpha = a \\sigma ^j , j= 0,1,2....$, $ a  >0 $, $\\sigma \\in (0,1 )$ , $\\gamma \\in (0, \\frac{1}{2})$\n",
    "\n"
   ]
  },
  {
   "cell_type": "markdown",
   "metadata": {},
   "source": [
    "<img src='./image/armijo.png'>"
   ]
  },
  {
   "cell_type": "markdown",
   "metadata": {},
   "source": [
    "为了保证 stepsize 足够好， 还需要考虑 curvature condition. AA 没讲。 "
   ]
  },
  {
   "cell_type": "markdown",
   "metadata": {},
   "source": [
    "<img src='./image/Wolfe conditions.png'>"
   ]
  },
  {
   "cell_type": "markdown",
   "metadata": {},
   "source": [
    "## 2.4.3 Goldstein condition.\n",
    "\n",
    "stepsize 不能太大也不能太小。 \n",
    "设定 $\\gamma_1 \\in (0,1 )\\gamma_2 \\in (0,1 ) ,  \\gamma_1 < \\gamma_2 $ \n",
    "寻找 $a_k$ 满足  $$ \\gamma_1 \\alpha \\triangledown f (x_k)'  d_k   \\leq f(x_k+\\alpha d_k) -f (x_k) \\leq \\gamma_2 \\alpha \\triangledown f (x_k)'  d_k $$ "
   ]
  },
  {
   "cell_type": "markdown",
   "metadata": {},
   "source": [
    "$ \\gamma_1 和 \\gamma_2 $ 可以有不同的定义， 图中的例子是 $\\gamma_1= c $,   $\\gamma_1 =1 -  \\gamma_2 $\n",
    "<img src='./image/Goldstein condition .png'>"
   ]
  },
  {
   "cell_type": "markdown",
   "metadata": {},
   "source": [
    "介绍了一种 不用derivative 的算法 ， 叫做 parabolic search. \n",
    "\n",
    "条件1： stepsize 是 满足  $f(x_k+\\alpha_k d_k) -f (x_k) \\leq \\gamma \\alpha_k^2$ 条件的最大 $a_k$                \n",
    "条件2 ：$ a_k =0 $  , $ \\lambda_k \\leq p \\lambda_{k-1}$    , 同时  $f(x_k+\\lambda_k d_k) 或f(x_k - \\lambda_k d_k)$的最小值 大于 $f(x_k)- \\gamma \\lambda_k^2 $"
   ]
  }
 ],
 "metadata": {
  "anaconda-cloud": {},
  "kernelspec": {
   "display_name": "Python [conda root]",
   "language": "python",
   "name": "conda-root-py"
  },
  "language_info": {
   "codemirror_mode": {
    "name": "ipython",
    "version": 2
   },
   "file_extension": ".py",
   "mimetype": "text/x-python",
   "name": "python",
   "nbconvert_exporter": "python",
   "pygments_lexer": "ipython2",
   "version": "2.7.12"
  }
 },
 "nbformat": 4,
 "nbformat_minor": 1
}
