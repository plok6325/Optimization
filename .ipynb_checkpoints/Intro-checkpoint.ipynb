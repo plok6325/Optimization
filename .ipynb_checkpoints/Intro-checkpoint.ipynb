{
 "cells": [
  {
   "cell_type": "markdown",
   "metadata": {},
   "source": [
    "# Intro "
   ]
  },
  {
   "cell_type": "markdown",
   "metadata": {},
   "source": [
    "## Statement of an optimisation problem "
   ]
  },
  {
   "cell_type": "markdown",
   "metadata": {},
   "source": [
    "### Optimisation problem can be stated as :\n",
    "   寻找一系列的X ：  $x=(x^{1},x^{2},x^{3})$ 使得 $ f(x) $ 取最小值 。\n",
    "   同时满足条件： $  g_j(x) \\leq 0$ ， $l_j(x) = 0$.  \n",
    "   \n",
    "   $X$ 叫做design vector ， $f(x) $ 叫做object function， 如果 没有 同时满足条件， 那么这就是unconstrained optimization 问题  "
   ]
  },
  {
   "cell_type": "markdown",
   "metadata": {},
   "source": [
    "## 名词解释 "
   ]
  },
  {
   "cell_type": "markdown",
   "metadata": {},
   "source": [
    "X 构成的坐标系 叫做 degisn space， 所有满足 $constrain = 0$  这个条件的X连起来 可以 构成一个 hypersurface ，叫做 constraint surface, 一般来说 如果 X 有 n dimensions,那么 constraint surface 就有 n-1 dimension。 这好理解， 如果是design space 是 3D， 满足条件的X的子集 如果还是 3D 就没什么意义了。  "
   ]
  },
  {
   "cell_type": "markdown",
   "metadata": {},
   "source": [
    "<img src='.\\image\\Feasible region.png'>"
   ]
  },
  {
   "cell_type": "markdown",
   "metadata": {},
   "source": [
    " Object function, 的自变量是 前面说的 design vector X.    很多情况下，我们要权衡很多因素， 所以会有很多初级 object function ， 变成一个 multiobject function 问题， 这时候 可以赋予 这些初级 object function weight 。 变成单一 object function。 \n",
    " \n",
    " 所有满足 $f(x)=c$ 的X 构成的平面叫做 objective function surface。 不同的c 构成的 objective function surface 确认是不同的。 \n",
    " 有了这个objcetive function surface 和constraint surface 我们就能找到 optiomal surface。 "
   ]
  },
  {
   "cell_type": "markdown",
   "metadata": {},
   "source": [
    "<img src='.\\image\\objective function surface.png'>"
   ]
  },
  {
   "cell_type": "markdown",
   "metadata": {},
   "source": [
    "                                                                                        注意 右下角 a<b<c<d "
   ]
  }
 ],
 "metadata": {
  "kernelspec": {
   "display_name": "Python [conda root]",
   "language": "python",
   "name": "conda-root-py"
  },
  "language_info": {
   "codemirror_mode": {
    "name": "ipython",
    "version": 2
   },
   "file_extension": ".py",
   "mimetype": "text/x-python",
   "name": "python",
   "nbconvert_exporter": "python",
   "pygments_lexer": "ipython2",
   "version": "2.7.12"
  }
 },
 "nbformat": 4,
 "nbformat_minor": 1
}
