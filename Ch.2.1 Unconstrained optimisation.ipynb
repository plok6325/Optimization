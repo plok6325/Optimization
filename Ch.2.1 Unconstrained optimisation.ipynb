{
 "cells": [
  {
   "cell_type": "markdown",
   "metadata": {},
   "source": [
    "# Ch.2 Unconstrained optimisation"
   ]
  },
  {
   "cell_type": "markdown",
   "metadata": {},
   "source": [
    "## Definition  定义"
   ]
  },
  {
   "cell_type": "markdown",
   "metadata": {
    "collapsed": true
   },
   "source": [
    "Minimise $f(x)$ 问题，  自变量 X 取值范围 是  $X  \\in \\mathcal{F }$ :\n",
    "## 定义1： global local strict minimum 的定义 .  \n",
    "对于所有 $y \\in \\mathcal{F } $           \n",
    "如果 $f(x)$小于等于 $f(y) $ \n",
    "\n",
    "$\\Rightarrow $  x is global minimum. \n",
    "\n",
    "------\n",
    "\n",
    "for all  $y \\in \\mathcal{F } $     \n",
    "$y \\neq x $      \n",
    "if $f(x)< f(y) $    \n",
    "\n",
    "$\\Rightarrow $  x is strict global minimum. \n",
    "\n",
    "-------\n",
    "\n",
    "if there exit a $p$ , $p<0$    \n",
    "for all $y \\in \\mathcal{F }$     \n",
    "such that $\\left \\| y-x  \\right \\| <p $   \n",
    "if $f(x)\\leq f(y)$     \n",
    "\n",
    "$\\Rightarrow$ x is local minimum.\n",
    "\n",
    "-----\n"
   ]
  },
  {
   "cell_type": "markdown",
   "metadata": {
    "collapsed": false
   },
   "source": [
    "## 定义2 :unconstrained local minimum 的定义\n",
    "\n",
    "\n",
    "if X is local minimum     \n",
    "X is in the interior of $\\mathcal{F }$    \n",
    "\n",
    "$\\Rightarrow$ X is an unconstrained local minimum\n"
   ]
  },
  {
   "cell_type": "markdown",
   "metadata": {},
   "source": [
    "## 性质1.  compact 情况下， 连续函数必然有全局最小值\n",
    "\n",
    "object function  $f$ is continuous function and 定义域区间 $\\mathcal{F }$ 是 compact.    \n",
    "\n",
    "$\\Rightarrow$ 定义域区间 $\\mathcal{F }$ 内 必然存在 一个 global minimum \n",
    "\n",
    "能画圈， 就有 最小值 。 \n",
    "然而for unconstrained problem, 定义域不是 compact, 所以我们引出了如下有关 Level set的思考\n",
    "\n",
    "### compact \n",
    "\n",
    "compact set is bounded and closed.    \n",
    "紧空间是有界的和闭合的。 \n",
    "#### 例1. \n",
    "[0, 1] is compact     \n",
    "[0, 1) is bounded but not closed      \n",
    "所有的自然数 is not bounded .     \n",
    "#### 例2. \n",
    "$(x1\\times x2) <1$ is not bounded, 两边可以无线延伸。       \n",
    "$(x1^2 + x2^2) < 1 $ is bounded but not closed.      \n",
    "$(x1^2 + x2^2) \\leq 1 $ is bounded but not closed.    \n",
    "\n"
   ]
  },
  {
   "cell_type": "markdown",
   "metadata": {},
   "source": [
    "## 定义3. Level set 的定义. \n",
    "所有让 $f(x)$ 小于  $ \\alpha $ 成立的 x  组成的集合    \n",
    "$$ L(\\alpha)=\\{x \\in \\mathbb{R^{n}}: f(x) < \\alpha \\} $$"
   ]
  },
  {
   "cell_type": "markdown",
   "metadata": {},
   "source": [
    "## 性质2. 如果某个 level set 能在定义域内划分出 compact 的区域，那么连续函数在整个 $\\mathbb{R^{n}}$ 内必然有最小值. \n",
    "\n",
    "object function  $f$ is continuous function,             \n",
    "assume exit $x_0 \\in \\mathbb{R}$,            \n",
    "such that the level set $ L(f(x_0))$ is compact.      \n",
    "\n",
    "$\\Rightarrow$ There exit a global minimum in $\\mathbb{R^{n}}$\n",
    "\n",
    "\n",
    "证明：  \n",
    "根据性质1.      \n",
    "存在 一个 global minimum $x^{*}$ 在  $L_0$ 中，              \n",
    "所以， $f(x^{*}) < f(x)$ for all $x \\in L_0$. \n",
    "又因为level set 的定义， 对于不在  $L_0$  的 x 而言           \n",
    "有如下关系 \n",
    "\n",
    "\n",
    "$f(x^{*}) > f(x_0) \\geq f(x^{*})$             \n",
    "所以在更广阔的 $\\mathbb{R^{n}}$ 中都能证明有 global minimum. \n",
    "\n",
    "自己画圈，得出global minimum"
   ]
  },
  {
   "cell_type": "markdown",
   "metadata": {},
   "source": [
    "## 性质3.  满足 所有 level set compact 的充要条件，是随着 X 的 norm 变成 $\\infty, f(X)也变成 \\infty$  \n",
    "\n",
    "X 随意取值， 但总能找到一个X  满足条件 $||x|| = \\infty $ 如果根据这个条件能推出       \n",
    "$f(x)$ x 随意取值， 总能满足条件   $||f(x)|| = \\infty $              \n",
    "那么对于所有的 f 的level set ， 都是compact 的            \n",
    "反之亦然。        \n",
    "\n",
    "原因在于随着X 随意变动， 如果 $f(x)$ 被 cap 到了某一个值 $f_{max}$ ， 那么对于更大的level set ，  $L(f_{max}+1)$ 则不是compact 的了。 \n"
   ]
  },
  {
   "cell_type": "markdown",
   "metadata": {},
   "source": [
    "## 定义4. 下降方向(desent direction)的定义. \n",
    "\n",
    "如果 $f（x+\\lambda d ）< f(x)$\n",
    "\n",
    "$\\lambda > 0$ 书上的定义过于复杂， 不适合理解。\n",
    "\n",
    "$\\Rightarrow$  那么 vector $\\overrightarrow{b} $ 就是下降方向 ,任何能让函数值变小的方向。 "
   ]
  },
  {
   "cell_type": "markdown",
   "metadata": {},
   "source": [
    "## 性质4. （导数(gradient) 乘 $\\overrightarrow{b} ） < 0 $ ,  $\\overrightarrow{b} $就是下降方向 \n",
    "\n",
    "$\\triangledown f$ 是连续的，                      \n",
    "给定两个 $\\overrightarrow{x} $ 和 $\\overrightarrow{b} $ . 如果                   \n",
    "$\\triangledown f(x)' d <0 $\n",
    "\n",
    "($\\triangledown f(x)$和 $\\overrightarrow{b} $ 都是 是 $n \\times 1 $的，最后结果是scaler  )\n",
    "\n",
    "$\\Rightarrow$ d is a desent direction. \n",
    "\n",
    "证明方法 ： 导数的定义。\n",
    "\n",
    "\n",
    "d= $- \\triangledown f(x)$ is a desent direction "
   ]
  },
  {
   "cell_type": "markdown",
   "metadata": {},
   "source": [
    "## 定理1. first order 函数在 local minimum  推出 一阶导数等于 0 \n",
    "\n",
    "if local minumum           \n",
    "$\\triangledown f(x) = 0$\n",
    "\n",
    "证明 ： 如果gradient 不等于 0 ， 所以 有 d= $- \\triangledown f(x)$ is a desent direction .             \n",
    "根据 desent direction 的定义 肯定有 $f(x+d)< f(x )$ ,   这和 local minimum 的定义不符合 "
   ]
  },
  {
   "cell_type": "markdown",
   "metadata": {},
   "source": [
    "## 定理2.  second order 函数 在local minimum  推出 一阶导数 等于0 ，和半正定。 \n",
    "\n",
    "\n",
    "根据泰勒展开：  \n",
    "\n",
    "$$f(x_{*}+\\lambda d) = f(x_{*}) + \\lambda \\triangledown f(x_{*})'x + \\frac{1}{2}\\lambda^{2}x'\\triangledown^2 f(x_{*})x + \\text{high order terms} $$\n",
    "\n",
    "把 $f(x_{*})$移到右边 , 根据local minimum 定义， 左边要大于 0， 因为 一阶导数等于0 ， 所以得出半正定的结论。           \n",
    "$$x'\\triangledown^2 f(x_{*})x \\geq 0 $$\n"
   ]
  },
  {
   "cell_type": "markdown",
   "metadata": {},
   "source": [
    "## 定理3.  local minimum 的充要条件 为一阶导数 等于0 ，和 正定 . \n",
    "\n",
    "\n",
    "\n",
    "1.  $\\triangledown f(x) = 0$ 一阶导数等于0 \n",
    "\n",
    "2.  $x'\\triangledown^2 f(x_{*})x > 0 $  正定 \n",
    "\n",
    "\n"
   ]
  },
  {
   "cell_type": "markdown",
   "metadata": {},
   "source": [
    "$Hessian 的eigenvalue  both  > 0 $  最小值           \n",
    "$Hessian 的eigenvalue  both  < 0 $  最大值            \n",
    "$Hessian 的eigenvalue  一个  > 0， 一个 < 0  $  saddle points             \n"
   ]
  },
  {
   "cell_type": "markdown",
   "metadata": {},
   "source": [
    "<img src='./image/second order suffcient necessart.png'>"
   ]
  },
  {
   "cell_type": "markdown",
   "metadata": {},
   "source": [
    "## 性质5.  上面这个知乎回答更广义的推论。 广义最小值的充要条件\n",
    "\n",
    " X 是局部最小值 的充要条件是 \n",
    "函数是 first order  的映射     \n",
    "存在一个 K  , K=1 ：odd number,     \n",
    "函数的1至 K阶导数都为0 ， 而且 K+1 阶导数（某个偶数项导数）大于 0 。 \n",
    "\n",
    "反例为, y=x^3;         \n",
    "在 x=0 时 一阶导数  =  0         \n",
    "二阶导数  =  0  ， 不符合大于 0 的 条件， \n",
    "所以  (0, 0 ) 不是最小值 。           "
   ]
  },
  {
   "cell_type": "markdown",
   "metadata": {},
   "source": [
    "## 性质6 .  凸函数(convex )最小值的充要条件：  \n",
    "\n",
    "函数为多维至一维\n",
    "凹函数 （convex ）的定义; \n",
    "\n",
    "$$ f(y)-f(x) \\geq \\triangledown f(x)'(y-x) $$  \n",
    "\n",
    "\n",
    "$X_{*}$ 是最小值 iff 一阶导数等于 0           \n",
    "$\\triangledown f(x)'(y-x) = 0 $             \n",
    "证明:  \n",
    "\n",
    "充分 ： 已知 一阶导数等于 0  ,代入 convex 的定义。    \n",
    "所以 \n",
    "$ f(y)-f(x_{*}) \\geq 0   $ \n",
    "这恰好是 最小值的定义。  \n",
    "\n",
    "必要 ： 定理1. "
   ]
  }
 ],
 "metadata": {
  "anaconda-cloud": {},
  "kernelspec": {
   "display_name": "Python [conda root]",
   "language": "python",
   "name": "conda-root-py"
  },
  "language_info": {
   "codemirror_mode": {
    "name": "ipython",
    "version": 2
   },
   "file_extension": ".py",
   "mimetype": "text/x-python",
   "name": "python",
   "nbconvert_exporter": "python",
   "pygments_lexer": "ipython2",
   "version": "2.7.12"
  }
 },
 "nbformat": 4,
 "nbformat_minor": 1
}
